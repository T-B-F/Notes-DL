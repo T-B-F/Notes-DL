{
 "cells": [
  {
   "cell_type": "markdown",
   "metadata": {},
   "source": [
    "# Reading Writing Converting Examples\n",
    "\n",
    "provides a list of small example for writing and reading data in tensorflow from different sources (numpy array, csv file ...)\n",
    "\n",
    "More in the official [documentation](https://www.tensorflow.org/how_tos/reading_data/)\n",
    "\n",
    "Also a good [introduction](https://warmspringwinds.github.io/tensorflow/tf-slim/2016/12/21/tfrecords-guide/)"
   ]
  },
  {
   "cell_type": "code",
   "execution_count": 3,
   "metadata": {
    "collapsed": true
   },
   "outputs": [],
   "source": [
    "import argparse, os\n",
    "import tensorflow as tf\n",
    "import numpy as np\n",
    "from pprint import pprint \n",
    "\n",
    "FLAGS = None\n",
    "\n",
    "parser = argparse.ArgumentParser()\n",
    "parser.add_argument(\n",
    "    '--directory',\n",
    "    type=str,\n",
    "    default='data',\n",
    "    help='Directory to download data files and write the converted result'\n",
    ")\n",
    "\n",
    "FLAGS, unparsed = parser.parse_known_args()\n"
   ]
  },
  {
   "cell_type": "markdown",
   "metadata": {},
   "source": [
    "## Standard Tensorflow Format\n",
    "\n"
   ]
  },
  {
   "cell_type": "code",
   "execution_count": 17,
   "metadata": {},
   "outputs": [],
   "source": [
    "def _int64_feature(value, verbose=False):\n",
    "    val = tf.train.Feature(int64_list=tf.train.Int64List(value=[value]))\n",
    "    if verbose:\n",
    "        print(value, val)\n",
    "    return val\n",
    "\n",
    "\n",
    "def _bytes_feature(value, verbose=False):\n",
    "    val = tf.train.Feature(bytes_list=tf.train.BytesList(value=[value]))\n",
    "    if verbose:\n",
    "        print(value, val)\n",
    "    return val\n",
    "\n",
    "fmat = lambda x: (np.random.rand(x) > 0.5).astype(np.uint8)\n",
    "\n",
    "list_of_data = [fmat(10) for i in range(20)]\n",
    "list_of_labels = [0 if np.random.rand() > 0.5 else 1 for i in range(20)]\n",
    "\n",
    "#pprint(list_of_data)\n",
    "#pprint(list_of_labels)"
   ]
  },
  {
   "cell_type": "markdown",
   "metadata": {},
   "source": [
    "Writing simple list of matrix\n",
    "-----------------------------\n",
    "Adapted from this [repo](https://github.com/tensorflow/tensorflow/blob/master/tensorflow/examples/how_tos/reading_data/convert_to_records.py)"
   ]
  },
  {
   "cell_type": "code",
   "execution_count": 18,
   "metadata": {},
   "outputs": [
    {
     "name": "stdout",
     "output_type": "stream",
     "text": [
      "Writing data/simple_list_of_matrix.tfrecords\n"
     ]
    }
   ],
   "source": [
    "verbose = False\n",
    "\n",
    "num_examples = len(list_of_data)\n",
    "\n",
    "assert(len(list_of_data) == len(list_of_labels))\n",
    "\n",
    "size = list_of_data[0].shape[0]\n",
    "\n",
    "filename = os.path.join(FLAGS.directory, 'simple_list_of_matrix.tfrecords')\n",
    "print('Writing', filename)\n",
    "\n",
    "writer = tf.python_io.TFRecordWriter(filename)\n",
    "for index in range(num_examples):\n",
    "    data_raw = list_of_data[index].tostring()\n",
    "    example = tf.train.Example(features=tf.train.Features(feature={\n",
    "            'label': _int64_feature(int(list_of_labels[index]), verbose),\n",
    "            'mat_raw': _bytes_feature(data_raw, verbose)}))\n",
    "    writer.write(example.SerializeToString())\n",
    "writer.close()"
   ]
  },
  {
   "cell_type": "markdown",
   "metadata": {},
   "source": [
    "Reading simple list of matrix\n",
    "-----------------------------\n",
    "Adapted from this [repo](https://github.com/tensorflow/tensorflow/blob/master/tensorflow/examples/how_tos/reading_data/fully_connected_reader.py)"
   ]
  },
  {
   "cell_type": "code",
   "execution_count": 19,
   "metadata": {},
   "outputs": [],
   "source": [
    "reconstructed_matrix = []\n",
    "\n",
    "record_iterator = tf.python_io.tf_record_iterator(path=filename)\n",
    "\n",
    "for record in record_iterator:\n",
    "    example = tf.train.Example()\n",
    "    example.ParseFromString(record)\n",
    "    label = int(example.features.feature['label'].int64_list.value[0])\n",
    "    mat_string = (example.features.feature['mat_raw'].bytes_list.value[0])\n",
    "    mat_1d = np.fromstring(mat_string, dtype=np.uint8)\n",
    "    # if reshape needed\n",
    "    #reconstructed_mat = mat_1d.reshape((height, width, -1))\n",
    "    reconstructed_matrix.append((mat_1d, label))"
   ]
  },
  {
   "cell_type": "code",
   "execution_count": 20,
   "metadata": {},
   "outputs": [
    {
     "name": "stdout",
     "output_type": "stream",
     "text": [
      "True True\n",
      "True True\n",
      "True True\n",
      "True True\n",
      "True True\n",
      "True True\n",
      "True True\n",
      "True True\n",
      "True True\n",
      "True True\n",
      "True True\n",
      "True True\n",
      "True True\n",
      "True True\n",
      "True True\n",
      "True True\n",
      "True True\n",
      "True True\n",
      "True True\n",
      "True True\n"
     ]
    }
   ],
   "source": [
    "for i in range(len(list_of_data)):\n",
    "    original_mat = list_of_data[i]\n",
    "    original_lab = list_of_labels[i]\n",
    "    reconstructed_mat = reconstructed_matrix[i][0]\n",
    "    reconstructed_lab = reconstructed_matrix[i][1]\n",
    "    print(np.allclose(original_mat, reconstructed_mat), np.allclose(original_lab, reconstructed_lab))"
   ]
  },
  {
   "cell_type": "markdown",
   "metadata": {},
   "source": [
    "## Batch of Records"
   ]
  },
  {
   "cell_type": "code",
   "execution_count": 24,
   "metadata": {
    "collapsed": true
   },
   "outputs": [],
   "source": [
    "def read_and_decode(filename_queue):\n",
    "    \n",
    "    reader = tf.TFRecordReader()\n",
    "\n",
    "    _, serialized_example = reader.read(filename_queue)\n",
    "\n",
    "    features = tf.parse_single_example(serialized_example,\n",
    "                                        # Defaults are not specified since both keys are required.\n",
    "                                        features={\n",
    "                                            'label': tf.FixedLenFeature([], tf.int64),\n",
    "                                            'mat_raw': tf.FixedLenFeature([], tf.string),\n",
    "                                        })\n",
    "\n",
    "    # Convert from a scalar string tensor (whose single string has\n",
    "    # length mnist.IMAGE_PIXELS) to a uint8 tensor with shape\n",
    "    # [mnist.IMAGE_PIXELS].\n",
    "    mat = tf.decode_raw(features['mat_raw'], tf.uint8)\n",
    "    \n",
    "    label = tf.cast(features['label'], tf.int64)\n",
    "    \n",
    "    mat_shape = tf.stack([10])\n",
    "    label_shape = tf.stack([1])\n",
    "    \n",
    "    mat = tf.reshape(mat, mat_shape)\n",
    "    label = tf.reshape(label, label_shape)\n",
    "    \n",
    "    mat_size_const = tf.constant((10,), dtype=tf.int32)\n",
    "    label_const = tf.constant((1,), dtype=tf.int32)\n",
    "    \n",
    "    # randomize batch\n",
    "    mat, label = tf.train.shuffle_batch([mat, label],\n",
    "                                         batch_size=2,\n",
    "                                         capacity=30,\n",
    "                                         num_threads=2,\n",
    "                                         min_after_dequeue=10)\n",
    "    \n",
    "    return mat, label\n"
   ]
  },
  {
   "cell_type": "code",
   "execution_count": 26,
   "metadata": {},
   "outputs": [
    {
     "name": "stdout",
     "output_type": "stream",
     "text": [
      "'---- 0'\n",
      "array([1, 1, 0, 0, 1, 1, 1, 0, 1, 1], dtype=uint8)\n",
      "array([1])\n",
      "array([1, 1, 1, 0, 0, 0, 0, 1, 1, 0], dtype=uint8)\n",
      "array([1])\n",
      "current batch\n",
      "'---- 1'\n",
      "array([1, 0, 1, 1, 0, 0, 1, 0, 1, 1], dtype=uint8)\n",
      "array([0])\n",
      "array([1, 0, 0, 0, 0, 0, 1, 0, 1, 1], dtype=uint8)\n",
      "array([0])\n",
      "current batch\n",
      "'---- 2'\n",
      "array([1, 0, 0, 0, 1, 0, 1, 0, 1, 1], dtype=uint8)\n",
      "array([1])\n",
      "array([0, 1, 0, 0, 0, 1, 0, 0, 1, 0], dtype=uint8)\n",
      "array([1])\n",
      "current batch\n"
     ]
    }
   ],
   "source": [
    "filename_queue = tf.train.string_input_producer([filename], num_epochs=10)\n",
    "\n",
    "# Even when reading in multiple threads, share the filename\n",
    "# queue.\n",
    "matrix, label = read_and_decode(filename_queue)\n",
    "\n",
    "# The op for initializing the variables.\n",
    "init_op = tf.group(tf.global_variables_initializer(), tf.local_variables_initializer())\n",
    "\n",
    "with tf.Session()  as sess:\n",
    "    \n",
    "    sess.run(init_op)\n",
    "    \n",
    "    coord = tf.train.Coordinator()\n",
    "    threads = tf.train.start_queue_runners(coord=coord)\n",
    "    \n",
    "    # Let's read off 3 batches just for example\n",
    "    for i in range(3):\n",
    "    \n",
    "        mat, lab = sess.run([matrix, label])\n",
    "        pprint(\"---- {}\".format(i))\n",
    "        pprint(mat[0])\n",
    "        pprint(lab[0])\n",
    "        \n",
    "        pprint(mat[1])\n",
    "        pprint(lab[1])\n",
    "        \n",
    "        print('current batch')\n",
    "                \n",
    "    \n",
    "    coord.request_stop()\n",
    "    coord.join(threads)\n",
    "\n"
   ]
  },
  {
   "cell_type": "markdown",
   "metadata": {},
   "source": [
    "Notes on tf.train.shuffle_batch\n",
    "----\n",
    "https://github.com/tensorflow/tensorflow/blob/master/tensorflow/g3doc/api_docs/python/functions_and_classes/shard2/tf.train.shuffle_batch.md"
   ]
  },
  {
   "cell_type": "code",
   "execution_count": null,
   "metadata": {
    "collapsed": true
   },
   "outputs": [],
   "source": []
  }
 ],
 "metadata": {
  "kernelspec": {
   "display_name": "Python 3",
   "language": "python",
   "name": "python3"
  },
  "language_info": {
   "codemirror_mode": {
    "name": "ipython",
    "version": 3
   },
   "file_extension": ".py",
   "mimetype": "text/x-python",
   "name": "python",
   "nbconvert_exporter": "python",
   "pygments_lexer": "ipython3",
   "version": "3.5.2"
  }
 },
 "nbformat": 4,
 "nbformat_minor": 1
}
