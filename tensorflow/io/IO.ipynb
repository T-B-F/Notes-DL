{
 "cells": [
  {
   "cell_type": "markdown",
   "metadata": {},
   "source": [
    "# Reading Writing Converting Examples\n",
    "\n",
    "provides a list of small example for writing and reading data in tensorflow from different sources (numpy array, csv file ...)\n",
    "\n",
    "More in the official [documentation](https://www.tensorflow.org/how_tos/reading_data/)"
   ]
  },
  {
   "cell_type": "code",
   "execution_count": 1,
   "metadata": {
    "collapsed": true
   },
   "outputs": [],
   "source": [
    "import argparse, os\n",
    "import tensorflow as tf\n",
    "import numpy as np\n",
    "from pprint import pprint \n",
    "\n",
    "FLAGS = None\n",
    "\n",
    "parser = argparse.ArgumentParser()\n",
    "parser.add_argument(\n",
    "    '--directory',\n",
    "    type=str,\n",
    "    default='data',\n",
    "    help='Directory to download data files and write the converted result'\n",
    ")\n",
    "\n",
    "FLAGS, unparsed = parser.parse_known_args()\n"
   ]
  },
  {
   "cell_type": "markdown",
   "metadata": {},
   "source": [
    "## Standard Tensorflow Format\n",
    "\n"
   ]
  },
  {
   "cell_type": "code",
   "execution_count": 35,
   "metadata": {
    "collapsed": false
   },
   "outputs": [
    {
     "name": "stdout",
     "output_type": "stream",
     "text": [
      "[array([1, 1, 1, 0, 0, 0, 0, 1, 1, 0]),\n",
      " array([0, 0, 0, 1, 1, 1, 0, 1, 0, 1]),\n",
      " array([1, 0, 1, 0, 0, 1, 1, 1, 1, 1]),\n",
      " array([1, 1, 1, 1, 1, 1, 0, 1, 0, 0]),\n",
      " array([1, 0, 1, 1, 1, 1, 0, 1, 0, 1]),\n",
      " array([1, 1, 0, 0, 1, 0, 1, 0, 1, 1]),\n",
      " array([0, 0, 1, 1, 0, 0, 1, 0, 0, 0]),\n",
      " array([0, 0, 1, 1, 0, 0, 0, 0, 1, 0]),\n",
      " array([0, 1, 0, 0, 1, 0, 1, 0, 0, 1]),\n",
      " array([0, 0, 1, 0, 1, 1, 0, 0, 1, 0]),\n",
      " array([0, 1, 1, 0, 1, 1, 1, 1, 0, 1]),\n",
      " array([1, 0, 1, 1, 0, 0, 0, 1, 1, 0]),\n",
      " array([0, 1, 0, 1, 0, 0, 0, 1, 0, 0]),\n",
      " array([1, 0, 0, 0, 1, 1, 0, 1, 1, 1]),\n",
      " array([1, 1, 1, 1, 0, 0, 1, 0, 0, 1]),\n",
      " array([0, 0, 0, 1, 1, 1, 0, 1, 0, 0]),\n",
      " array([1, 0, 1, 0, 1, 0, 1, 1, 0, 0]),\n",
      " array([0, 0, 0, 0, 1, 1, 0, 0, 1, 0]),\n",
      " array([1, 1, 1, 0, 1, 0, 1, 1, 1, 0]),\n",
      " array([1, 1, 0, 0, 1, 1, 1, 0, 1, 0])]\n",
      "[0, 1, 0, 1, 0, 0, 0, 1, 0, 0, 1, 0, 1, 1, 0, 1, 0, 0, 0, 0]\n"
     ]
    }
   ],
   "source": [
    "def _int64_feature(value, verbose=False):\n",
    "    val = tf.train.Feature(int64_list=tf.train.Int64List(value=[value]))\n",
    "    if verbose:\n",
    "        print(value, val)\n",
    "    return val\n",
    "\n",
    "\n",
    "def _bytes_feature(value, verbose=False):\n",
    "    val = tf.train.Feature(bytes_list=tf.train.BytesList(value=[value]))\n",
    "    if verbose:\n",
    "        print(value, val)\n",
    "    return val\n",
    "\n",
    "fmat = lambda x: (np.random.rand(x) > 0.5).astype(np.int)\n",
    "\n",
    "list_of_data = [fmat(10) for i in range(20)]\n",
    "list_of_labels = [0 if np.random.rand() > 0.5 else 1 for i in range(20)]\n",
    "\n",
    "pprint(list_of_data)\n",
    "pprint(list_of_labels)"
   ]
  },
  {
   "cell_type": "markdown",
   "metadata": {},
   "source": [
    "Writing simple list of matrix\n",
    "-----------------------------\n",
    "Adapted from this [repo](https://github.com/tensorflow/tensorflow/blob/master/tensorflow/examples/how_tos/reading_data/convert_to_records.py)"
   ]
  },
  {
   "cell_type": "code",
   "execution_count": 36,
   "metadata": {
    "collapsed": false
   },
   "outputs": [
    {
     "name": "stdout",
     "output_type": "stream",
     "text": [
      "Writing data/simple_list_of_matrix.tfrecords\n"
     ]
    }
   ],
   "source": [
    "verbose = False\n",
    "\n",
    "num_examples = len(list_of_data)\n",
    "\n",
    "assert(len(list_of_data) == len(list_of_labels))\n",
    "\n",
    "size = list_of_data[0].shape[0]\n",
    "\n",
    "filename = os.path.join(FLAGS.directory, 'simple_list_of_matrix.tfrecords')\n",
    "print('Writing', filename)\n",
    "\n",
    "writer = tf.python_io.TFRecordWriter(filename)\n",
    "for index in range(num_examples):\n",
    "    data_raw = list_of_data[index].tostring()\n",
    "    example = tf.train.Example(features=tf.train.Features(feature={\n",
    "            'label': _int64_feature(int(list_of_labels[index]), verbose),\n",
    "            'image_raw': _bytes_feature(data_raw, verbose)}))\n",
    "    writer.write(example.SerializeToString())\n",
    "writer.close()"
   ]
  },
  {
   "cell_type": "markdown",
   "metadata": {},
   "source": [
    "Reading simple list of matrix\n",
    "-----------------------------\n",
    "Adapted from this [repo](https://github.com/tensorflow/tensorflow/blob/master/tensorflow/examples/how_tos/reading_data/fully_connected_reader.py)"
   ]
  },
  {
   "cell_type": "code",
   "execution_count": 37,
   "metadata": {
    "collapsed": false
   },
   "outputs": [
    {
     "name": "stdout",
     "output_type": "stream",
     "text": [
      "(10,)\n",
      "[1 1 1 0 0 0 0 1 1 0]\n",
      "(10,)\n",
      "[0 0 0 1 1 1 0 1 0 1]\n",
      "(10,)\n",
      "[1 0 1 0 0 1 1 1 1 1]\n",
      "(10,)\n",
      "[1 1 1 1 1 1 0 1 0 0]\n",
      "(10,)\n",
      "[1 0 1 1 1 1 0 1 0 1]\n",
      "(10,)\n",
      "[1 1 0 0 1 0 1 0 1 1]\n",
      "(10,)\n",
      "[0 0 1 1 0 0 1 0 0 0]\n",
      "(10,)\n",
      "[0 0 1 1 0 0 0 0 1 0]\n",
      "(10,)\n",
      "[0 1 0 0 1 0 1 0 0 1]\n",
      "(10,)\n",
      "[0 0 1 0 1 1 0 0 1 0]\n",
      "(10,)\n",
      "[0 1 1 0 1 1 1 1 0 1]\n",
      "(10,)\n",
      "[1 0 1 1 0 0 0 1 1 0]\n",
      "(10,)\n",
      "[0 1 0 1 0 0 0 1 0 0]\n",
      "(10,)\n",
      "[1 0 0 0 1 1 0 1 1 1]\n",
      "(10,)\n",
      "[1 1 1 1 0 0 1 0 0 1]\n",
      "(10,)\n",
      "[0 0 0 1 1 1 0 1 0 0]\n",
      "(10,)\n",
      "[1 0 1 0 1 0 1 1 0 0]\n",
      "(10,)\n",
      "[0 0 0 0 1 1 0 0 1 0]\n",
      "(10,)\n",
      "[1 1 1 0 1 0 1 1 1 0]\n",
      "(10,)\n",
      "[1 1 0 0 1 1 1 0 1 0]\n"
     ]
    }
   ],
   "source": [
    "reconstructed_matrix = []\n",
    "\n",
    "record_iterator = tf.python_io.tf_record_iterator(path=filename)\n",
    "\n",
    "for record in record_iterator:\n",
    "    example = tf.train.Example()\n",
    "    example.ParseFromString(record)\n",
    "    label = int(example.features.feature['label'].int64_list.value[0])\n",
    "    mat_string = (example.features.feature['image_raw'].bytes_list.value[0])\n",
    "    mat_1d = np.fromstring(mat_string, dtype=np.int)\n",
    "    # if reshape needed\n",
    "    #reconstructed_mat = mat_1d.reshape((height, width, -1))\n",
    "    reconstructed_matrix.append((mat_1d, label))"
   ]
  },
  {
   "cell_type": "code",
   "execution_count": 40,
   "metadata": {
    "collapsed": false
   },
   "outputs": [
    {
     "name": "stdout",
     "output_type": "stream",
     "text": [
      "True True\n",
      "True True\n",
      "True True\n",
      "True True\n",
      "True True\n",
      "True True\n",
      "True True\n",
      "True True\n",
      "True True\n",
      "True True\n",
      "True True\n",
      "True True\n",
      "True True\n",
      "True True\n",
      "True True\n",
      "True True\n",
      "True True\n",
      "True True\n",
      "True True\n",
      "True True\n"
     ]
    }
   ],
   "source": [
    "for i in range(len(list_of_data)):\n",
    "    original_mat = list_of_data[i]\n",
    "    original_lab = list_of_labels[i]\n",
    "    reconstructed_mat = reconstructed_matrix[i][0]\n",
    "    reconstructed_lab = reconstructed_matrix[i][1]\n",
    "    print(np.allclose(original_mat, reconstructed_mat), np.allclose(original_lab, reconstructed_lab))"
   ]
  },
  {
   "cell_type": "code",
   "execution_count": null,
   "metadata": {
    "collapsed": false
   },
   "outputs": [],
   "source": []
  },
  {
   "cell_type": "code",
   "execution_count": null,
   "metadata": {
    "collapsed": true
   },
   "outputs": [],
   "source": []
  }
 ],
 "metadata": {
  "kernelspec": {
   "display_name": "Python 3",
   "language": "python",
   "name": "python3"
  },
  "language_info": {
   "codemirror_mode": {
    "name": "ipython",
    "version": 3
   },
   "file_extension": ".py",
   "mimetype": "text/x-python",
   "name": "python",
   "nbconvert_exporter": "python",
   "pygments_lexer": "ipython3",
   "version": "3.5.2"
  }
 },
 "nbformat": 4,
 "nbformat_minor": 1
}
